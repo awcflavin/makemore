{
 "cells": [
  {
   "cell_type": "code",
   "execution_count": 1,
   "metadata": {},
   "outputs": [],
   "source": [
    "import torch\n",
    "import torch.nn.functional as F\n",
    "import matplotlib.pyplot as plt\n",
    "%matplotlib inline"
   ]
  },
  {
   "cell_type": "code",
   "execution_count": 2,
   "metadata": {},
   "outputs": [
    {
     "data": {
      "text/plain": [
       "['emma', 'olivia', 'ava', 'isabella', 'sophia']"
      ]
     },
     "execution_count": 2,
     "metadata": {},
     "output_type": "execute_result"
    }
   ],
   "source": [
    "words = open('names.txt', 'r').read().splitlines()\n",
    "words[:5]"
   ]
  },
  {
   "cell_type": "code",
   "execution_count": 3,
   "metadata": {},
   "outputs": [],
   "source": [
    "chars = sorted(list(set(''.join(words))))\n",
    "ctoi = {c:i+1 for i,c in enumerate(chars)}\n",
    "ctoi['.']=0\n",
    "itoc = {i:c for c,i in ctoi.items()}"
   ]
  },
  {
   "cell_type": "code",
   "execution_count": 4,
   "metadata": {},
   "outputs": [],
   "source": [
    "block_size = 5\n",
    "def build_dataset(words):\n",
    "    X, Y = [], []\n",
    "\n",
    "    for word in words:\n",
    "        context = [0] * block_size\n",
    "        for char in word + '.':\n",
    "            X.append(context[:])\n",
    "            Y.append(ctoi[char])\n",
    "            context = context[1:] + [ctoi[char]]\n",
    "\n",
    "    X = torch.tensor(X)\n",
    "    Y = torch.tensor(Y)\n",
    "    return X, Y\n",
    "\n",
    "import random\n",
    "random.seed(42442)\n",
    "random.shuffle(words)\n",
    "n1 = int(0.8*len(words))\n",
    "n2 = int(0.9*len(words))\n",
    "\n",
    "Xtr, Ytr = build_dataset(words[:n1])\n",
    "Xval, Yval = build_dataset(words[n1:n2])\n",
    "Xte, Yte = build_dataset(words[n2:])"
   ]
  },
  {
   "cell_type": "code",
   "execution_count": 5,
   "metadata": {},
   "outputs": [],
   "source": [
    "emb_dim = 10\n",
    "hidden_n = 400\n",
    "vocab_size = 27\n",
    "\n",
    "g = torch.Generator().manual_seed(42442)\n",
    "\n",
    "# input embedding layer\n",
    "C = torch.randn((vocab_size,emb_dim), generator=g)\n",
    "\n",
    "# an arbitrary number of neurons hidden layer - kaiming init\n",
    "W1 = torch.randn((block_size*emb_dim, hidden_n), generator=g) * ((5/3) / (block_size*emb_dim)**0.5)\n",
    "# biases\n",
    "#b1 = torch.randn(hidden_n, generator=g) * 0\n",
    "\n",
    "# output layer - want to be even probabiliites at init - scale down w2 and set b2 to 0 so\n",
    "# that the outputs are all close to 0\n",
    "W2 = torch.randn((hidden_n, vocab_size), generator=g) * 0.01\n",
    "b2 = torch.randn(vocab_size, generator=g) * 0\n",
    "\n",
    "bn_gain = torch.ones((1, hidden_n))\n",
    "bn_bias = torch.zeros((1, hidden_n))\n",
    "bn_mean_running = torch.zeros((1, hidden_n))\n",
    "bn_std_running = torch.ones((1, hidden_n))\n",
    "\n",
    "parameters = [C, W1, W2, b2, bn_gain, bn_bias]\n",
    "for p in parameters:\n",
    "    p.requires_grad=True"
   ]
  },
  {
   "cell_type": "code",
   "execution_count": 6,
   "metadata": {},
   "outputs": [
    {
     "name": "stdout",
     "output_type": "stream",
     "text": [
      "  10000/ 200000: 2.2781\n",
      "  20000/ 200000: 2.5970\n",
      "  30000/ 200000: 1.5391\n",
      "  40000/ 200000: 2.2231\n",
      "  50000/ 200000: 2.0124\n",
      "  60000/ 200000: 1.9687\n",
      "  70000/ 200000: 2.0999\n",
      "  80000/ 200000: 2.4764\n",
      "  90000/ 200000: 2.2261\n",
      " 100000/ 200000: 2.0969\n",
      " 110000/ 200000: 2.0286\n",
      " 120000/ 200000: 1.6450\n",
      " 130000/ 200000: 1.9005\n",
      " 140000/ 200000: 1.8320\n",
      " 150000/ 200000: 2.2927\n",
      " 160000/ 200000: 2.1711\n",
      " 170000/ 200000: 2.5743\n",
      " 180000/ 200000: 2.1165\n",
      " 190000/ 200000: 1.7322\n",
      " 200000/ 200000: 2.3175\n"
     ]
    }
   ],
   "source": [
    "steps = []\n",
    "losses = []\n",
    "batch_size = 32\n",
    "max_steps = 200000\n",
    "momentum = 0.01\n",
    "\n",
    "for i in range(1, max_steps+1):\n",
    "    \n",
    "    #random batch\n",
    "    ix = torch.randint(0, Xtr.shape[0], (batch_size,), generator=g)\n",
    "    # training loop forward\n",
    "\n",
    "    #get embeddings\n",
    "    emb = C[Xtr[ix]]\n",
    "\n",
    "    # linear layer\n",
    "    # apply weights biases and then activation function\n",
    "    h_preact = emb.view(-1, block_size*emb_dim) @ W1\n",
    "\n",
    "    # Batch normalization layer\n",
    "    bnmeani = h_preact.mean(0, keepdim=True)\n",
    "    bnstdi = h_preact.std(0, keepdim=True)\n",
    "\n",
    "    #apply normalization with affine parameters bn_gain and bn_bias\n",
    "    h_preact = bn_gain * ((h_preact - bnmeani) / bnstdi) + bn_bias\n",
    "    \n",
    "    # calculate an approx bn mean and bn std for the entire training set\n",
    "    # these are needed when not training as bn_mean and bn_std are coupled to the specific batch samples\n",
    "    # need to use a mean for the entire training set when using single examples and not batches\n",
    "    with torch.no_grad():\n",
    "        bn_mean_running = (1-momentum) * bn_mean_running + momentum * bnmeani\n",
    "        bn_std_running = (1-momentum) * bn_std_running + momentum * bnstdi\n",
    "\n",
    "    # activation\n",
    "    h = torch.tanh(h_preact)\n",
    "    # apply weights and biases for output layer to get log counts\n",
    "    logits = h @ W2 + b2\n",
    "    # cross entropy loss = -log likelihood\n",
    "    loss = F.cross_entropy(logits, Ytr[ix])\n",
    "\n",
    "    #backward\n",
    "    for p in parameters:\n",
    "        p.grad=None\n",
    "    loss.backward()\n",
    "\n",
    "    # update params\n",
    "    lr = 0.01 if i < 100000 else 0.005\n",
    "    for p in parameters:\n",
    "        p.data -= p.grad * lr\n",
    "    \n",
    "    steps.append(i)\n",
    "    losses.append(loss.log10().item())\n",
    "\n",
    "    if i % 10000 == 0:\n",
    "      print(f'{i:7d}/{max_steps:7d}: {loss.item():.4f}')"
   ]
  },
  {
   "cell_type": "code",
   "execution_count": 7,
   "metadata": {},
   "outputs": [
    {
     "name": "stdout",
     "output_type": "stream",
     "text": [
      "train 2.043363332748413\n",
      "val 2.1029765605926514\n"
     ]
    }
   ],
   "source": [
    "@torch.no_grad()\n",
    "def split_loss(split):\n",
    "    x,y = {\n",
    "        'train': (Xtr, Ytr),\n",
    "        'val': (Xval, Yval),\n",
    "        'test': (Xte, Yte)\n",
    "    } [split]\n",
    "    emb = C[x]\n",
    "    h_preact = emb.view(-1, block_size*emb_dim) @ W1 # bias does nothing now as it is negated by the normalisation - removed\n",
    "    h_preact = bn_gain * ((h_preact - bn_mean_running) / bn_std_running) + bn_bias\n",
    "    h = torch.tanh(h_preact)\n",
    "    logits = h @ W2 + b2\n",
    "    loss = F.cross_entropy(logits, y)\n",
    "    print(split, loss.item())\n",
    "\n",
    "split_loss('train')\n",
    "split_loss('val')"
   ]
  },
  {
   "cell_type": "code",
   "execution_count": 8,
   "metadata": {},
   "outputs": [
    {
     "name": "stdout",
     "output_type": "stream",
     "text": [
      "deandreya.\n",
      "phanner.\n",
      "zymis.\n",
      "leyanaelwan.\n",
      "ochar.\n",
      "kimmerleigh.\n",
      "kation.\n",
      "calen.\n",
      "carmindyy.\n",
      "tayri.\n"
     ]
    }
   ],
   "source": [
    "#sample from the mlp\n",
    "def sample():\n",
    "    context = [0] * block_size\n",
    "    output = []\n",
    "    while True:\n",
    "        emb = C[torch.tensor([context])]\n",
    "        h_preact = emb.view(1, -1) @ W1\n",
    "        h_preact = bn_gain * ((h_preact - bn_mean_running) / bn_std_running) + bn_bias\n",
    "        h = torch.tanh(h_preact)\n",
    "        logits = h @ W2 + b2\n",
    "        dist = F.softmax(logits, dim=1)\n",
    "        y = torch.multinomial(dist, num_samples=1, generator=g).item()\n",
    "        context = context[1:] + [y]\n",
    "        output.append(y)\n",
    "        if y == 0:\n",
    "            break\n",
    "    print(''.join(itoc[i] for i in output))\n",
    "\n",
    "for _ in range(10):\n",
    "    sample()"
   ]
  }
 ],
 "metadata": {
  "kernelspec": {
   "display_name": "Python 3",
   "language": "python",
   "name": "python3"
  },
  "language_info": {
   "codemirror_mode": {
    "name": "ipython",
    "version": 3
   },
   "file_extension": ".py",
   "mimetype": "text/x-python",
   "name": "python",
   "nbconvert_exporter": "python",
   "pygments_lexer": "ipython3",
   "version": "3.11.3"
  }
 },
 "nbformat": 4,
 "nbformat_minor": 2
}
