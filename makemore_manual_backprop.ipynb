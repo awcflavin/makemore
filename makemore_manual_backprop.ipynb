{
  "cells": [
    {
      "cell_type": "code",
      "execution_count": 1,
      "metadata": {
        "id": "ChBbac4y8PPq"
      },
      "outputs": [],
      "source": [
        "import torch\n",
        "import torch.nn.functional as F\n",
        "import matplotlib.pyplot as plt\n",
        "%matplotlib inline"
      ]
    },
    {
      "cell_type": "code",
      "execution_count": 2,
      "metadata": {
        "id": "klmu3ZG08PPr"
      },
      "outputs": [
        {
          "name": "stdout",
          "output_type": "stream",
          "text": [
            "['emma', 'olivia', 'ava', 'isabella', 'sophia']\n"
          ]
        }
      ],
      "source": [
        "# read in all the words\n",
        "words = open('names.txt', 'r').read().splitlines()\n",
        "print(words[:5])"
      ]
    },
    {
      "cell_type": "code",
      "execution_count": 3,
      "metadata": {
        "id": "BCQomLE_8PPs"
      },
      "outputs": [],
      "source": [
        "# build the vocabulary of characters and mappings to/from integers\n",
        "chars = sorted(list(set(''.join(words))))\n",
        "stoi = {s:i+1 for i,s in enumerate(chars)}\n",
        "stoi['.'] = 0\n",
        "itos = {i:s for s,i in stoi.items()}\n",
        "vocab_size = len(itos)"
      ]
    },
    {
      "cell_type": "code",
      "execution_count": 4,
      "metadata": {
        "id": "V_zt2QHr8PPs"
      },
      "outputs": [
        {
          "name": "stdout",
          "output_type": "stream",
          "text": [
            "torch.Size([182646, 5]) torch.Size([182646])\n",
            "torch.Size([22789, 5]) torch.Size([22789])\n",
            "torch.Size([22711, 5]) torch.Size([22711])\n"
          ]
        }
      ],
      "source": [
        "# build the dataset\n",
        "block_size = 5 # context length\n",
        "\n",
        "def build_dataset(words):\n",
        "  X, Y = [], []\n",
        "\n",
        "  for w in words:\n",
        "    context = [0] * block_size\n",
        "    for ch in w + '.':\n",
        "      ix = stoi[ch]\n",
        "      X.append(context)\n",
        "      Y.append(ix)\n",
        "      context = context[1:] + [ix]\n",
        "\n",
        "  X = torch.tensor(X)\n",
        "  Y = torch.tensor(Y)\n",
        "  print(X.shape, Y.shape)\n",
        "  return X, Y\n",
        "\n",
        "import random\n",
        "random.seed(42442)\n",
        "random.shuffle(words)\n",
        "n1 = int(0.8*len(words))\n",
        "n2 = int(0.9*len(words))\n",
        "\n",
        "Xtr,  Ytr  = build_dataset(words[:n1])     # 80%\n",
        "Xdev, Ydev = build_dataset(words[n1:n2])   # 10%\n",
        "Xte,  Yte  = build_dataset(words[n2:])     # 10%"
      ]
    },
    {
      "cell_type": "code",
      "execution_count": 5,
      "metadata": {
        "id": "MJPU8HT08PPu"
      },
      "outputs": [],
      "source": [
        "# utility function to compare manual gradients to PyTorch gradients\n",
        "def cmp(s, dt, t):\n",
        "  ex = torch.all(dt == t.grad).item()\n",
        "  app = torch.allclose(dt, t.grad)\n",
        "  maxdiff = (dt - t.grad).abs().max().item()\n",
        "  print(f'{s:15s} | exact: {str(ex):5s} | approximate: {str(app):5s} | maxdiff: {maxdiff}')"
      ]
    },
    {
      "cell_type": "code",
      "execution_count": 6,
      "metadata": {
        "id": "ZlFLjQyT8PPu"
      },
      "outputs": [
        {
          "name": "stdout",
          "output_type": "stream",
          "text": [
            "5417\n"
          ]
        }
      ],
      "source": [
        "n_embd = 10 \n",
        "n_hidden = 64\n",
        "\n",
        "g = torch.Generator().manual_seed(42442)\n",
        "C  = torch.randn((vocab_size, n_embd),            generator=g)\n",
        "# Layer 1\n",
        "W1 = torch.randn((n_embd * block_size, n_hidden), generator=g) * (5/3)/((n_embd * block_size)**0.5)\n",
        "b1 = torch.randn(n_hidden,                        generator=g) * 0.1 #useless because of BN\n",
        "# Layer 2\n",
        "W2 = torch.randn((n_hidden, vocab_size),          generator=g) * 0.1\n",
        "b2 = torch.randn(vocab_size,                      generator=g) * 0.1\n",
        "# BatchNorm parameters\n",
        "bngain = torch.randn((1, n_hidden))*0.1 + 1.0\n",
        "bnbias = torch.randn((1, n_hidden))*0.1\n",
        "\n",
        "parameters = [C, W1, b1, W2, b2, bngain, bnbias]\n",
        "print(sum(p.nelement() for p in parameters)) # number of parameters in total\n",
        "for p in parameters:\n",
        "  p.requires_grad = True"
      ]
    },
    {
      "cell_type": "code",
      "execution_count": 7,
      "metadata": {
        "id": "QY-y96Y48PPv"
      },
      "outputs": [],
      "source": [
        "batch_size = 32\n",
        "n = batch_size # convenience\n",
        "# construct a minibatch\n",
        "ix = torch.randint(0, Xtr.shape[0], (batch_size,), generator=g)\n",
        "Xb, Yb = Xtr[ix], Ytr[ix] # batch X,Y"
      ]
    },
    {
      "cell_type": "code",
      "execution_count": 8,
      "metadata": {
        "id": "8ofj1s6d8PPv"
      },
      "outputs": [
        {
          "data": {
            "text/plain": [
              "tensor(3.5830, grad_fn=<NegBackward0>)"
            ]
          },
          "execution_count": 8,
          "metadata": {},
          "output_type": "execute_result"
        }
      ],
      "source": [
        "# forward pass, \"chunkated\" into smaller steps that are possible to backward one at a time\n",
        "emb = C[Xb] # embed the characters into vectors\n",
        "embcat = emb.view(emb.shape[0], -1) # concatenate the vectors\n",
        "# Linear layer 1\n",
        "hprebn = embcat @ W1 + b1 # hidden layer pre-activation\n",
        "# BatchNorm layer\n",
        "bnmeani = 1/n*hprebn.sum(0, keepdim=True)\n",
        "bndiff = hprebn - bnmeani\n",
        "bndiff2 = bndiff**2\n",
        "bnvar = 1/(n-1)*(bndiff2).sum(0, keepdim=True) # Bessel's correction (dividing by n-1, not n)\n",
        "bnvar_inv = (bnvar + 1e-5)**-0.5\n",
        "bnraw = bndiff * bnvar_inv\n",
        "hpreact = bngain * bnraw + bnbias\n",
        "# activation\n",
        "h = torch.tanh(hpreact) # hidden layer\n",
        "# Linear layer 2\n",
        "logits = h @ W2 + b2 # output layer\n",
        "# cross entropy loss (same as F.cross_entropy(logits, Yb))\n",
        "logit_maxes = logits.max(1, keepdim=True).values\n",
        "norm_logits = logits - logit_maxes # subtract max for numerical stability\n",
        "counts = norm_logits.exp()\n",
        "counts_sum = counts.sum(1, keepdims=True)\n",
        "counts_sum_inv = counts_sum**-1\n",
        "probs = counts * counts_sum_inv\n",
        "logprobs = probs.log()\n",
        "loss = -logprobs[range(n), Yb].mean()\n",
        "\n",
        "# PyTorch backward pass\n",
        "for p in parameters:\n",
        "  p.grad = None\n",
        "for t in [logprobs, probs, counts, counts_sum, counts_sum_inv, # afaik there is no cleaner way\n",
        "          norm_logits, logit_maxes, logits, h, hpreact, bnraw,\n",
        "         bnvar_inv, bnvar, bndiff2, bndiff, hprebn, bnmeani,\n",
        "         embcat, emb]:\n",
        "  t.retain_grad()\n",
        "loss.backward()\n",
        "loss"
      ]
    },
    {
      "cell_type": "code",
      "execution_count": 9,
      "metadata": {
        "id": "mO-8aqxK8PPw"
      },
      "outputs": [
        {
          "name": "stdout",
          "output_type": "stream",
          "text": [
            "logprobs        | exact: True  | approximate: True  | maxdiff: 0.0\n",
            "probs           | exact: True  | approximate: True  | maxdiff: 0.0\n",
            "counts_sum_inv  | exact: True  | approximate: True  | maxdiff: 0.0\n",
            "counts_sum      | exact: True  | approximate: True  | maxdiff: 0.0\n",
            "counts          | exact: True  | approximate: True  | maxdiff: 0.0\n",
            "norm_logits     | exact: True  | approximate: True  | maxdiff: 0.0\n",
            "logit_maxes     | exact: True  | approximate: True  | maxdiff: 0.0\n",
            "logits          | exact: True  | approximate: True  | maxdiff: 0.0\n",
            "h               | exact: True  | approximate: True  | maxdiff: 0.0\n",
            "W2              | exact: True  | approximate: True  | maxdiff: 0.0\n",
            "b2              | exact: True  | approximate: True  | maxdiff: 0.0\n",
            "hpreact         | exact: True  | approximate: True  | maxdiff: 0.0\n",
            "bngain          | exact: True  | approximate: True  | maxdiff: 0.0\n",
            "bnbias          | exact: True  | approximate: True  | maxdiff: 0.0\n",
            "bnraw           | exact: True  | approximate: True  | maxdiff: 0.0\n",
            "bnvar_inv       | exact: True  | approximate: True  | maxdiff: 0.0\n",
            "bnvar           | exact: True  | approximate: True  | maxdiff: 0.0\n",
            "bndiff2         | exact: True  | approximate: True  | maxdiff: 0.0\n",
            "bndiff          | exact: True  | approximate: True  | maxdiff: 0.0\n",
            "bnmeani         | exact: True  | approximate: True  | maxdiff: 0.0\n",
            "hprebn          | exact: True  | approximate: True  | maxdiff: 0.0\n",
            "embcat          | exact: True  | approximate: True  | maxdiff: 0.0\n",
            "W1              | exact: True  | approximate: True  | maxdiff: 0.0\n",
            "b1              | exact: True  | approximate: True  | maxdiff: 0.0\n",
            "emb             | exact: True  | approximate: True  | maxdiff: 0.0\n",
            "C               | exact: True  | approximate: True  | maxdiff: 0.0\n"
          ]
        }
      ],
      "source": [
        "# Backprop through the whole thing manually\n",
        "\n",
        "# only the values indexed at logprobs[range(n), Yb] affects the loss. these are averaged over the batch\n",
        "# gradient of each value in an average is -1/n. -> set to 1/n for each\n",
        "dlogprobs = torch.zeros_like(logprobs)\n",
        "dlogprobs[range(n), Yb] = -1.0 / n\n",
        "cmp('logprobs', dlogprobs, logprobs)\n",
        "\n",
        "# log is applied to probs to get logprobs. torch uses ln\n",
        "# derivative of ln(x) is 1/x\n",
        "dprobs = dlogprobs * probs**-1\n",
        "cmp('probs', dprobs, probs)\n",
        "\n",
        "# shape of counts_sum_inv is 32,1 so it is broadcast across counts\n",
        "# so when counts_sum_inv[0] increases by 1, 27 params of counts[0] change\n",
        "# sum those 27 params to get the total gradient\n",
        "dcounts_sum_inv = (dprobs * counts).sum(1, keepdim=True)\n",
        "cmp('counts_sum_inv', dcounts_sum_inv, counts_sum_inv)\n",
        "\n",
        "# dy/dx of x**-1 is -1*x**-2\n",
        "dcounts_sum = dcounts_sum_inv * -1*counts_sum**-2\n",
        "cmp('counts_sum', dcounts_sum, counts_sum)\n",
        "\n",
        "# counts used twice\n",
        "dcounts = dprobs * counts_sum_inv + dcounts_sum\n",
        "cmp('counts', dcounts, counts)\n",
        "\n",
        "dnorm_logits = dcounts * norm_logits.exp()\n",
        "cmp('norm_logits', dnorm_logits, norm_logits)\n",
        "\n",
        "# subtraction so -1. But broadcast so must sum along the broadcast dimension\n",
        "dlogit_maxes = (dnorm_logits * -torch.ones_like(logit_maxes)).sum(1, keepdim=True)\n",
        "cmp('logit_maxes', dlogit_maxes, logit_maxes)\n",
        "\n",
        "# dnorm_logits is jsut *1. + get indices of max of each logit row and one hot them to 27 wide rows\n",
        "# ie find the indices that affect the gradient. These are 1 and the rest are 0 hence one_hot\n",
        "dlogits = (dnorm_logits) + (dlogit_maxes * F.one_hot(logits.max(1).indices, logits.shape[1]))\n",
        "cmp('logits', dlogits, logits)\n",
        "\n",
        "# h value affects all values in same row of logits\n",
        "# logits[1,1] = h[1,1]*W2[1,1] + h[1,2]*W2[2,1] + ... + h[1,64]*W2[64,1] + b2[1]\n",
        "# logits[1,2] = h[1,1]*W2[1,2] + h[1,2]*W2[2,2] + ... + h[1,64]*W2[64,2] + b2[2]\n",
        "# ...\n",
        "# logits[1,27] = h[1,1]*W2[1,27] + h[1,2]*W2[2,27] + ... + h[1,64]*W2[64,27] + b2[27]\n",
        "# dL/dh[1,1] is the sum of all the affects of h[1,1]\n",
        "# dL/dh[1,1] = dL/dlogits[1,1]*W2[1,1] + dL/dlogits[1,2]*W2[1,2] + ... + dL/dlogits[1,27]*W2[1,27]\n",
        "# the above is the equivalent to matrix multiplication of dL/dlogits[1,:] and W2.T[:,1]\n",
        "dh = dlogits @ W2.T\n",
        "cmp('h', dh, h)\n",
        "\n",
        "# same as before except using h and multiplying on the left\n",
        "dW2 = h.T @ dlogits\n",
        "cmp('W2', dW2, W2)\n",
        "\n",
        "# each b2 has a gradient of 1 but for each entire column ie 1*values of each column of dlogits\n",
        "# sum the columns to get the total gradient\n",
        "db2 = dlogits.sum(0, keepdim=True)\n",
        "cmp('b2', db2, b2)\n",
        "\n",
        "dhpreact = dh * (1 - h**2)\n",
        "cmp('hpreact', dhpreact, hpreact)\n",
        "\n",
        "dbngain = (dhpreact * bnraw).sum(0, keepdim=True)\n",
        "cmp('bngain', dbngain, bngain)\n",
        "\n",
        "dbnbias = dhpreact.sum(0, keepdim=True)\n",
        "cmp('bnbias', dbnbias, bnbias)\n",
        "\n",
        "dbnraw = (bngain * dhpreact)\n",
        "cmp('bnraw', dbnraw, bnraw)\n",
        "\n",
        "dbnvar_inv = (bndiff * dbnraw).sum(0, keepdim=True)\n",
        "cmp('bnvar_inv', dbnvar_inv, bnvar_inv)\n",
        "\n",
        "#bnvar_inv = (bnvar + 1e-5)**-0.5 -> apply exponent rule\n",
        "dbnvar = (-0.5*((bnvar + 1e-5)**-1.5))  * dbnvar_inv\n",
        "cmp('bnvar', dbnvar, bnvar)\n",
        "\n",
        "# bnvar = 1/(n-1)*(bndiff2).sum(0, keepdim=True)\n",
        "dbndiff2 = dbnvar * (1.0/(n-1))\n",
        "#dbndiff2 = (1.0/(n-1)) * torch.ones_like(bndiff2) * dbnvar\n",
        "cmp('bndiff2', dbndiff2, bndiff2)\n",
        "\n",
        "dbndiff = dbndiff2 * (2.0 * bndiff) + (bnvar_inv * dbnraw)\n",
        "cmp('bndiff', dbndiff, bndiff)\n",
        "\n",
        "dbnmeani = -dbndiff.sum(0, keepdim=True)\n",
        "cmp('bnmeani', dbnmeani, bnmeani)\n",
        "\n",
        "# bnmeani = 1/n*hprebn.sum(0, keepdim=True)\n",
        "# bndiff = hprebn - bnmeani\n",
        "dhprebn = (dbndiff * torch.ones_like(hprebn)) + (dbnmeani * torch.ones_like(hprebn) * 1.0/(n))\n",
        "cmp('hprebn', dhprebn, hprebn)\n",
        "\n",
        "# hprebn = embcat @ W1 + b1 # hidden layer pre-activation\n",
        "dembcat = dhprebn @ W1.T\n",
        "cmp('embcat', dembcat, embcat)\n",
        "\n",
        "dW1 = embcat.T @ dhprebn\n",
        "cmp('W1', dW1, W1)\n",
        "\n",
        "db1 = dhprebn.sum(0, keepdim=True)\n",
        "cmp('b1', db1, b1)\n",
        "\n",
        "demb = dembcat.view(emb.shape)\n",
        "cmp('emb', demb, emb)\n",
        "\n",
        "dC = torch.zeros_like(C)\n",
        "for i in range(Xb.shape[0]):\n",
        "    for j in range(Xb.shape[1]):\n",
        "        ix = Xb[i,j]\n",
        "        dC[ix] += demb[i,j]\n",
        "cmp('C', dC, C)"
      ]
    },
    {
      "cell_type": "code",
      "execution_count": 10,
      "metadata": {
        "id": "ebLtYji_8PPw"
      },
      "outputs": [
        {
          "name": "stdout",
          "output_type": "stream",
          "text": [
            "3.583031415939331 diff: -2.384185791015625e-07\n"
          ]
        }
      ],
      "source": [
        "# Backprop through cross_entropy but all in one go\n",
        "\n",
        "loss_fast = F.cross_entropy(logits, Yb)\n",
        "print(loss_fast.item(), 'diff:', (loss_fast - loss).item())"
      ]
    },
    {
      "cell_type": "code",
      "execution_count": 11,
      "metadata": {
        "id": "-gCXbB4C8PPx"
      },
      "outputs": [
        {
          "name": "stdout",
          "output_type": "stream",
          "text": [
            "logits          | exact: False | approximate: True  | maxdiff: 1.0477378964424133e-08\n"
          ]
        }
      ],
      "source": [
        "# backward pass\n",
        "\n",
        "dlogits = F.softmax(logits, dim=1)\n",
        "dlogits[range(n), Yb] -= 1.0\n",
        "dlogits /= n\n",
        "\n",
        "cmp('logits', dlogits, logits)"
      ]
    },
    {
      "cell_type": "code",
      "execution_count": 12,
      "metadata": {
        "id": "hd-MkhB68PPy"
      },
      "outputs": [
        {
          "name": "stdout",
          "output_type": "stream",
          "text": [
            "max diff: tensor(4.7684e-07, grad_fn=<MaxBackward1>)\n"
          ]
        }
      ],
      "source": [
        "# backprop through batchnorm but all in one go\n",
        "\n",
        "hpreact_fast = bngain * (hprebn - hprebn.mean(0, keepdim=True)) / torch.sqrt(hprebn.var(0, keepdim=True, unbiased=True) + 1e-5) + bnbias\n",
        "print('max diff:', (hpreact_fast - hpreact).abs().max())"
      ]
    },
    {
      "cell_type": "code",
      "execution_count": 13,
      "metadata": {
        "id": "POdeZSKT8PPy"
      },
      "outputs": [
        {
          "name": "stdout",
          "output_type": "stream",
          "text": [
            "hprebn          | exact: False | approximate: True  | maxdiff: 9.313225746154785e-10\n"
          ]
        }
      ],
      "source": [
        "# backward pass\n",
        "\n",
        "# calculate dhprebn given dhpreact (i.e. backprop through the batchnorm)\n",
        "dhprebn = bngain*bnvar_inv/n * (n*dhpreact - dhpreact.sum(0, keepdim=True) - n/(n-1)*bnraw*(dhpreact*bnraw).sum(0, keepdim=True))\n",
        "\n",
        "cmp('hprebn', dhprebn, hprebn) # approx true"
      ]
    },
    {
      "cell_type": "code",
      "execution_count": 14,
      "metadata": {
        "id": "wPy8DhqB8PPz"
      },
      "outputs": [
        {
          "name": "stdout",
          "output_type": "stream",
          "text": [
            "31897\n",
            "      0/ 200000: 3.3503\n",
            "  10000/ 200000: 2.1159\n",
            "  20000/ 200000: 2.6357\n",
            "  30000/ 200000: 2.1498\n",
            "  40000/ 200000: 2.3001\n",
            "  50000/ 200000: 2.1886\n",
            "  60000/ 200000: 1.8413\n",
            "  70000/ 200000: 2.1714\n",
            "  80000/ 200000: 2.6130\n",
            "  90000/ 200000: 2.3408\n",
            " 100000/ 200000: 1.8101\n",
            " 110000/ 200000: 2.0721\n",
            " 120000/ 200000: 2.3392\n",
            " 130000/ 200000: 2.0538\n",
            " 140000/ 200000: 2.0212\n",
            " 150000/ 200000: 2.2308\n",
            " 160000/ 200000: 2.3330\n",
            " 170000/ 200000: 2.2257\n",
            " 180000/ 200000: 1.9566\n",
            " 190000/ 200000: 2.0826\n"
          ]
        }
      ],
      "source": [
        "# Train with manual backward pass\n",
        "with torch.no_grad():\n",
        "  n_embd = 10\n",
        "  n_hidden = 400\n",
        "  vocab_size = 27\n",
        "\n",
        "  g = torch.Generator().manual_seed(42442)\n",
        "  C  = torch.randn((vocab_size, n_embd),            generator=g)\n",
        "  # Layer 1\n",
        "  W1 = torch.randn((n_embd * block_size, n_hidden), generator=g) * (5/3)/((n_embd * block_size)**0.5)\n",
        "\n",
        "  # Layer 2\n",
        "  W2 = torch.randn((n_hidden, vocab_size),          generator=g) * 0.01\n",
        "  b2 = torch.randn(vocab_size,                      generator=g) * 0\n",
        "\n",
        "  bngain = torch.ones((1, n_hidden))\n",
        "  bnbias = torch.zeros((1, n_hidden))\n",
        "\n",
        "  bn_mean_running = torch.zeros((1, n_hidden))\n",
        "  bn_var_running = torch.ones((1, n_hidden))\n",
        "\n",
        "  parameters = [C, W1, W2, b2, bngain, bnbias]\n",
        "  print(sum(p.nelement() for p in parameters)) # number of parameters in total\n",
        "\n",
        "  # same optimization as last time\n",
        "  max_steps = 200000\n",
        "  batch_size = 32\n",
        "  momentum = 0.01\n",
        "  n = batch_size # convenience\n",
        "  lossi = []\n",
        "\n",
        "  for i in range(max_steps):\n",
        "    # minibatch\n",
        "    ix = torch.randint(0, Xtr.shape[0], (batch_size,), generator=g)\n",
        "\n",
        "    # forward pass\n",
        "    emb = C[Xtr[ix]]\n",
        "    embcat = emb.view(emb.shape[0], -1)\n",
        "    # Linear layer\n",
        "    # -------------------------------------------------------------\n",
        "    hprebn = embcat @ W1\n",
        "    # Batch Normalisation layer\n",
        "    # -------------------------------------------------------------\n",
        "    bnmean = hprebn.mean(0, keepdim=True)\n",
        "    bnvar = hprebn.var(0, keepdim=True, unbiased=True)\n",
        "    bnvar_inv = (bnvar + 1e-5)**-0.5\n",
        "    bnraw = (hprebn - bnmean) * bnvar_inv\n",
        "    hpreact = bngain * bnraw + bnbias\n",
        "    # -------------------------------------------------------------\n",
        "    # Non-linearity\n",
        "    h = torch.tanh(hpreact)\n",
        "    logits = h @ W2 + b2\n",
        "    loss = F.cross_entropy(logits, Ytr[ix])\n",
        "\n",
        "    # backward pass\n",
        "    for p in parameters:\n",
        "      p.grad = None\n",
        "\n",
        "    # equivalent to loss.backward()\n",
        "    dlogits = F.softmax(logits, dim=1)\n",
        "    dlogits[range(n), Ytr[ix]] -= 1.0\n",
        "    dlogits /= n\n",
        "    dh = dlogits @ W2.T\n",
        "    dW2 = h.T @ dlogits\n",
        "    db2 = dlogits.sum(0)\n",
        "    dhpreact = dh * (1.0 - h**2)\n",
        "    bn_mean_running = (1-momentum) * bn_mean_running + momentum * bnmean\n",
        "    bn_var_running = (1-momentum) * bn_var_running + momentum * bnvar\n",
        "\n",
        "    dbngain = (dhpreact * bnraw).sum(0, keepdim=True)\n",
        "    dbnbias = dhpreact.sum(0, keepdim=True)\n",
        "    dhprebn = bngain*bnvar_inv/n * (n*dhpreact - dhpreact.sum(0) - n/(n-1)*bnraw*(dhpreact*bnraw).sum(0))\n",
        "    dembcat = dhprebn @ W1.T\n",
        "    dW1 = embcat.T @ dhprebn\n",
        "    demb = dembcat.view(emb.shape)\n",
        "    dC = torch.zeros_like(C)\n",
        "    Xb = Xtr[ix]\n",
        "    for j in range(Xb.shape[0]):\n",
        "        for k in range(Xb.shape[1]):\n",
        "            ix = Xb[j,k]\n",
        "            dC[ix] += demb[j,k]\n",
        "    grads = [dC, dW1, dW2, db2, dbngain, dbnbias]\n",
        "    \n",
        "    # update params\n",
        "    lr = 0.01 if i < 100000 else 0.005\n",
        "    for p, grad in zip(parameters, grads):\n",
        "      p.data += -lr * grad\n",
        "\n",
        "    if i % 10000 == 0:\n",
        "      print(f'{i:7d}/{max_steps:7d}: {loss.item():.4f}')\n",
        "      lossi.append(loss.log10().item())"
      ]
    },
    {
      "cell_type": "code",
      "execution_count": 15,
      "metadata": {
        "id": "6aFnP_Zc8PP0"
      },
      "outputs": [
        {
          "name": "stdout",
          "output_type": "stream",
          "text": [
            "train 2.0439820289611816\n",
            "val 2.102834939956665\n"
          ]
        }
      ],
      "source": [
        "# evaluate train and val loss\n",
        "\n",
        "@torch.no_grad()\n",
        "def split_loss(split):\n",
        "  x,y = {\n",
        "    'train': (Xtr, Ytr),\n",
        "    'val': (Xdev, Ydev),\n",
        "    'test': (Xte, Yte),\n",
        "  }[split]\n",
        "  emb = C[x]\n",
        "  hpreact = emb.view(-1, block_size*n_embd) @ W1 # bias does nothing now as it is negated by the normalisation - removed\n",
        "  hpreact = bngain * (hpreact - bn_mean_running) / (bn_var_running + 1e-5)**0.5 + bnbias\n",
        "  h = torch.tanh(hpreact) # (N, n_hidden)\n",
        "  logits = h @ W2 + b2 # (N, vocab_size)\n",
        "  loss = F.cross_entropy(logits, y)\n",
        "  print(split, loss.item())\n",
        "\n",
        "split_loss('train')\n",
        "split_loss('val')"
      ]
    },
    {
      "cell_type": "code",
      "execution_count": 21,
      "metadata": {
        "id": "xHeQNv3s8PP1"
      },
      "outputs": [
        {
          "name": "stdout",
          "output_type": "stream",
          "text": [
            "ise.\n",
            "bryngela.\n",
            "kurace.\n",
            "raelin.\n",
            "marce.\n",
            "piarleony.\n",
            "reenara.\n",
            "rile.\n",
            "shrann.\n",
            "karedly.\n"
          ]
        }
      ],
      "source": [
        "# sample from the model\n",
        "g = torch.Generator().manual_seed(42442)\n",
        "\n",
        "for _ in range(10):\n",
        "\n",
        "    out = []\n",
        "    context = [0] * block_size # initialize with all ...\n",
        "    while True:\n",
        "      # forward pass\n",
        "      emb = C[torch.tensor([context])] # (1,block_size,d)\n",
        "      embcat = emb.view(emb.shape[0], -1) # concat into (N, block_size * n_embd)\n",
        "      hpreact = embcat @ W1\n",
        "      hpreact = bngain * (hpreact - bnmean) * (bnvar + 1e-5)**-0.5 + bnbias\n",
        "      h = torch.tanh(hpreact) # (N, n_hidden)\n",
        "      logits = h @ W2 + b2 # (N, vocab_size)\n",
        "      # sample\n",
        "      probs = F.softmax(logits, dim=1)\n",
        "      ix = torch.multinomial(probs, num_samples=1, generator=g).item()\n",
        "      context = context[1:] + [ix]\n",
        "      out.append(ix)\n",
        "      if ix == 0:\n",
        "        break\n",
        "\n",
        "    print(''.join(itos[i] for i in out))"
      ]
    }
  ],
  "metadata": {
    "colab": {
      "provenance": []
    },
    "kernelspec": {
      "display_name": "Python 3",
      "language": "python",
      "name": "python3"
    },
    "language_info": {
      "codemirror_mode": {
        "name": "ipython",
        "version": 3
      },
      "file_extension": ".py",
      "mimetype": "text/x-python",
      "name": "python",
      "nbconvert_exporter": "python",
      "pygments_lexer": "ipython3",
      "version": "3.11.3"
    }
  },
  "nbformat": 4,
  "nbformat_minor": 0
}
